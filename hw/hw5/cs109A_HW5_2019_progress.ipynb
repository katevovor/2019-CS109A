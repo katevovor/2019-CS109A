{
 "cells": [
  {
   "cell_type": "markdown",
   "metadata": {},
   "source": [
    "\n",
    "# <img style=\"float: left; padding-right: 10px; width: 45px\" src=\"https://raw.githubusercontent.com/Harvard-IACS/2018-CS109A/master/content/styles/iacs.png\"> CS109A Introduction to Data Science\n",
    "\n",
    "## Homework 5: $k$-NN Classification, ROC, and PCA\n",
    "\n",
    "**Harvard University**<br/>\n",
    "**Fall 2019**<br/>\n",
    "**Instructors**: Pavlos Protopapas, Kevin Rader, and Chris Tanner\n",
    "\n",
    "<hr style=\"height:2pt\">\n",
    "\n"
   ]
  },
  {
   "cell_type": "code",
   "execution_count": 1,
   "metadata": {},
   "outputs": [
    {
     "data": {
      "text/html": [
       "<style>\n",
       "blockquote { background: #AEDE94; }\n",
       "h1 { \n",
       "    padding-top: 25px;\n",
       "    padding-bottom: 25px;\n",
       "    text-align: left; \n",
       "    padding-left: 10px;\n",
       "    background-color: #DDDDDD; \n",
       "    color: black;\n",
       "}\n",
       "h2 { \n",
       "    padding-top: 10px;\n",
       "    padding-bottom: 10px;\n",
       "    text-align: left; \n",
       "    padding-left: 5px;\n",
       "    background-color: #EEEEEE; \n",
       "    color: black;\n",
       "}\n",
       "\n",
       "div.exercise {\n",
       "\tbackground-color: #ffcccc;\n",
       "\tborder-color: #E9967A; \t\n",
       "\tborder-left: 5px solid #800080; \n",
       "\tpadding: 0.5em;\n",
       "}\n",
       "\n",
       "span.sub-q {\n",
       "\tfont-weight: bold;\n",
       "}\n",
       "div.theme {\n",
       "\tbackground-color: #DDDDDD;\n",
       "\tborder-color: #E9967A; \t\n",
       "\tborder-left: 5px solid #800080; \n",
       "\tpadding: 0.5em;\n",
       "\tfont-size: 18pt;\n",
       "}\n",
       "div.gc { \n",
       "\tbackground-color: #AEDE94;\n",
       "\tborder-color: #E9967A; \t \n",
       "\tborder-left: 5px solid #800080; \n",
       "\tpadding: 0.5em;\n",
       "\tfont-size: 12pt;\n",
       "}\n",
       "p.q1 { \n",
       "    padding-top: 5px;\n",
       "    padding-bottom: 5px;\n",
       "    text-align: left; \n",
       "    padding-left: 5px;\n",
       "    background-color: #EEEEEE; \n",
       "    color: black;\n",
       "}\n",
       "header {\n",
       "   padding-top: 35px;\n",
       "    padding-bottom: 35px;\n",
       "    text-align: left; \n",
       "    padding-left: 10px;\n",
       "    background-color: #DDDDDD; \n",
       "    color: black;\n",
       "}\n",
       "</style>\n",
       "\n"
      ],
      "text/plain": [
       "<IPython.core.display.HTML object>"
      ]
     },
     "execution_count": 1,
     "metadata": {},
     "output_type": "execute_result"
    }
   ],
   "source": [
    "#RUN THIS CELL \n",
    "import requests\n",
    "from IPython.core.display import HTML\n",
    "styles = requests.get(\"https://raw.githubusercontent.com/Harvard-IACS/2018-CS109A/master/content/styles/cs109.css\").text\n",
    "HTML(styles)"
   ]
  },
  {
   "cell_type": "markdown",
   "metadata": {},
   "source": [
    "### INSTRUCTIONS\n",
    "\n",
    "- To submit your assignment follow the instructions given in Canvas.\n",
    "- Restart the kernel and run the whole notebook again before you submit. \n",
    "- As much as possible, try and stick to the hints and functions we import at the top of the homework, as those are the ideas and tools the class supports and is aiming to teach. And if a problem specifies a particular library you're required to use that library, and possibly others from the import list.\n",
    "- Please use .head() when viewing data. Do not submit a notebook that is excessively long because output was not suppressed or otherwise limited."
   ]
  },
  {
   "cell_type": "code",
   "execution_count": 2,
   "metadata": {},
   "outputs": [],
   "source": [
    "import numpy as np\n",
    "import pandas as pd\n",
    "from scipy.stats import ttest_ind\n",
    "pd.set_option('display.max_columns', 25)\n",
    "\n",
    "from sklearn.linear_model import LinearRegression\n",
    "from sklearn.linear_model import LogisticRegression\n",
    "from sklearn.linear_model import LogisticRegressionCV\n",
    "from sklearn.linear_model import LassoCV\n",
    "\n",
    "from sklearn.neighbors import KNeighborsClassifier\n",
    "from sklearn.model_selection import cross_val_score\n",
    "from sklearn.metrics import accuracy_score\n",
    "from sklearn.model_selection import KFold\n",
    "from sklearn.preprocessing import MinMaxScaler\n",
    "from sklearn.model_selection import train_test_split\n",
    "from sklearn.decomposition import PCA\n",
    "from sklearn import metrics\n",
    "\n",
    "import matplotlib\n",
    "import matplotlib.pyplot as plt\n",
    "%matplotlib inline\n",
    "\n",
    "import statsmodels.api as sm\n",
    "from statsmodels.api import OLS\n",
    "\n",
    "import seaborn as sns\n",
    "sns.set()"
   ]
  },
  {
   "cell_type": "markdown",
   "metadata": {},
   "source": [
    "\n",
    "## Continuing Cancer Classification from Gene Expressions\n",
    "\n",
    "In this problem, we will continue to work with the 2-class (ALL vs. AML) cancer classification problem from homework 4. The dataset is provided in the file `data/hw4_enhance.csv` and is the same as the previous HW.  Recall: **0 indicates the ALL** class and **1 indicates the AML** class within `Cancer_type`, and columns 2-7130 contain expression levels of 7129 genes recorded from each tissue sample. \n",
    "\n",
    "In the following questions, we will handle the high dimensionality of this problem directly by applying Principal Component Analysis (PCA), and then use the resulting PCA-transformed in logistic regression and $k$-NN modeling."
   ]
  },
  {
   "cell_type": "markdown",
   "metadata": {},
   "source": [
    "<div class='exercise'><b> Question 1 [20 pts]: Baseline Modeling </b></div>\n",
    "\n",
    "First step is to split the observations into an approximate 80-20 train-test split.  Below is the same code from HW4 to do this for you (we again want to make sure everyone has the same splits). Use the training data set to answer the following questions:\n"
   ]
  },
  {
   "cell_type": "markdown",
   "metadata": {},
   "source": [
    "**First step is to split the observations into an approximate 80-20 train-test split. Below is some code to do this for you (we want to make sure everyone has the same splits). `Cancer_type` is again our target column.**"
   ]
  },
  {
   "cell_type": "code",
   "execution_count": 3,
   "metadata": {},
   "outputs": [],
   "source": [
    "np.random.seed(10)\n",
    "df = pd.read_csv('data/hw4_enhance.csv', index_col=0)\n",
    "\n",
    "X_train, X_test, y_train, y_test =train_test_split(df.loc[:, df.columns != 'Cancer_type'], \n",
    "                                                         df.Cancer_type, test_size=0.2, \n",
    "                                                         random_state = 109, \n",
    "                                                         stratify = df.Cancer_type)"
   ]
  },
  {
   "cell_type": "markdown",
   "metadata": {},
   "source": [
    "**1.1** Begin by normalizing all predictors just like you did in HW4.  Use these versions of the predictors throughout this assignment.\n",
    "\n",
    "**1.2** Fit an 'unregularized' multiple logistic regression model (set C=100000) with all the gene predictors from the data set (you did this in HW4).  Report the misclassification rate on both the train and test sets.\n",
    "\n",
    "**1.3** Use regularization to improve the predictions from the multiple logistic regression model. Specifically, use LASSO-like regularization and cross-validation to train the model on the training set (you did this in HW4).  Report the classification accuracy on both the train and test sets.\n",
    "\n",
    "**1.4** Use 5-fold cross-validation to select $k$ for a $k$-NN classification model based on the full predictor set.  Choose between `k = 1,2,5,10,20,50,100,200,500`. \n",
    "\n",
    "**1.5** Provide the confusion matrix for all 3 models above and report the false positive and false negative rates (all in the test set).  Briefly interpret what you notice.\n"
   ]
  },
  {
   "cell_type": "markdown",
   "metadata": {},
   "source": [
    "<hr>\n",
    "\n",
    "### Solutions"
   ]
  },
  {
   "cell_type": "markdown",
   "metadata": {},
   "source": [
    "**1.1 Begin by normalizing all predictors just like you did in HW4.  Use these versions of the predictors throughout this assignment.**"
   ]
  },
  {
   "cell_type": "code",
   "execution_count": 4,
   "metadata": {},
   "outputs": [],
   "source": [
    "# Normalizing data - following Section 4?/hw4\n",
    "\n",
    "# store the names of the columns first\n",
    "columns = X_train.columns.values.tolist()\n",
    "\n",
    "#instantiate scaler\n",
    "scaler = MinMaxScaler()\n",
    "\n",
    "# Normalize X_train - fit it on X_train\n",
    "X_train = scaler.fit_transform(X_train)  # turns it into a numpy array\n",
    "X_train = pd.DataFrame(X_train, columns = columns)   # need to turn it back into a dataframe and have same column names\n",
    "\n",
    "# Normalize X_test - already fitted on X_train, only need to transform here\n",
    "X_test = scaler.transform(X_test)  # turns it into a numpy array\n",
    "X_test = pd.DataFrame(X_test, columns = columns)   # need to turn it back into a dataframe and have same column names"
   ]
  },
  {
   "cell_type": "markdown",
   "metadata": {},
   "source": [
    "**1.2 Fit an 'unregularized' multiple logistic regression model (set C=100000) with all the gene predictors from the data set (you did this in HW4).  Report the misclassification rate on both the train and test sets.**"
   ]
  },
  {
   "cell_type": "code",
   "execution_count": 5,
   "metadata": {},
   "outputs": [
    {
     "name": "stdout",
     "output_type": "stream",
     "text": [
      "Training Set Accuracy: 100.0%\n",
      "Testing Set Accuracy: 78.1456953642384%\n"
     ]
    }
   ],
   "source": [
    "# instantiate and fit the model\n",
    "unreg_log = LogisticRegression(C=100000, solver = \"lbfgs\", max_iter = 1000).fit(X_train,y_train)\n",
    "\n",
    "# Predict\n",
    "y_pred_train_ulog = unreg_log.predict(X_train)\n",
    "y_pred_test_ulog = unreg_log.predict(X_test)\n",
    "\n",
    "# Score\n",
    "train_score_ulog = accuracy_score(y_train, y_pred_train_ulog)*100\n",
    "test_score_ulog = accuracy_score(y_test, y_pred_test_ulog)*100\n",
    "\n",
    "print(\"Training Set Accuracy:\",str(train_score_ulog)+'%')\n",
    "print(\"Testing Set Accuracy:\",str(test_score_ulog)+'%')"
   ]
  },
  {
   "cell_type": "markdown",
   "metadata": {},
   "source": [
    "**1.3 Use regularization to improve the predictions from the multiple logistic regression model. Specifically, use LASSO-like regularization and cross-validation to train the model on the training set (you did this in HW4).  Report the misclassification rate on both the train and test sets.**"
   ]
  },
  {
   "cell_type": "code",
   "execution_count": 6,
   "metadata": {},
   "outputs": [
    {
     "name": "stdout",
     "output_type": "stream",
     "text": [
      "CV Training Set Accuracy: 91.01497504159734%\n",
      "CV Testing Set Accuracy: 86.09271523178808%\n"
     ]
    }
   ],
   "source": [
    "# Using regularization and cross validation\n",
    "\n",
    "reg_log_cv = LogisticRegressionCV(cv = 10, solver=\"liblinear\",  multi_class='ovr', penalty = 'l1', max_iter = 100000)\n",
    "reg_log_cv.fit(X_train, y_train)  # fit on train data\n",
    "\n",
    "# Predict\n",
    "y_train_pred_CV = reg_log_cv.predict(X_train)\n",
    "y_test_pred_CV = reg_log_cv.predict(X_test)\n",
    "\n",
    "# Score\n",
    "train_score_cv = accuracy_score(y_train, y_train_pred_CV)*100\n",
    "test_score_cv = accuracy_score(y_test, y_test_pred_CV)*100\n",
    "\n",
    "print(\"CV Training Set Accuracy:\",str(train_score_cv)+'%')\n",
    "print(\"CV Testing Set Accuracy:\",str(test_score_cv)+'%')"
   ]
  },
  {
   "cell_type": "markdown",
   "metadata": {},
   "source": [
    "**1.4 Use 5-fold cross-validation to select $k$ for a $k$-NN classification model based on the full predictor set.  Choose between `ks = [1,2,3,4,5,7,9,10,15,25]`.  Report your chosen $k$, and report the misclassification rate on both the train and test sets for the model using your chosen $k$.**"
   ]
  },
  {
   "cell_type": "code",
   "execution_count": 7,
   "metadata": {},
   "outputs": [
    {
     "name": "stdout",
     "output_type": "stream",
     "text": [
      "Classification accuracies for k = 1 were: \n",
      " Train = 100.0%, \n",
      " Test = 76.15894039735099%, \n",
      " Mean CV Score: 0.8153343982220986\n",
      "Classification accuracies for k = 2 were: \n",
      " Train = 89.51747088186356%, \n",
      " Test = 73.50993377483444%, \n",
      " Mean CV Score: 0.8019445794846864\n",
      "Classification accuracies for k = 3 were: \n",
      " Train = 91.68053244592346%, \n",
      " Test = 82.11920529801324%, \n",
      " Mean CV Score: 0.8653100909785403\n",
      "Classification accuracies for k = 4 were: \n",
      " Train = 89.35108153078203%, \n",
      " Test = 79.47019867549669%, \n",
      " Mean CV Score: 0.8353913466212932\n",
      "Classification accuracies for k = 5 were: \n",
      " Train = 90.01663893510815%, \n",
      " Test = 84.76821192052981%, \n",
      " Mean CV Score: 0.8569067296340025\n",
      "Classification accuracies for k = 7 were: \n",
      " Train = 90.18302828618968%, \n",
      " Test = 86.09271523178808%, \n",
      " Mean CV Score: 0.8751718869365929\n",
      "Classification accuracies for k = 9 were: \n",
      " Train = 89.6838602329451%, \n",
      " Test = 84.76821192052981%, \n",
      " Mean CV Score: 0.8717827626918536\n",
      "Classification accuracies for k = 10 were: \n",
      " Train = 88.85191347753744%, \n",
      " Test = 83.44370860927152%, \n",
      " Mean CV Score: 0.848614487117161\n",
      "Classification accuracies for k = 15 were: \n",
      " Train = 88.01996672212978%, \n",
      " Test = 83.44370860927152%, \n",
      " Mean CV Score: 0.8318633238419334\n",
      "Classification accuracies for k = 25 were: \n",
      " Train = 82.6955074875208%, \n",
      " Test = 79.47019867549669%, \n",
      " Mean CV Score: 0.7454684353080075\n"
     ]
    }
   ],
   "source": [
    "# following lab 7\n",
    "\n",
    "# define list of ks\n",
    "ks = [1,2,3,4,5,7,9,10,15,25]\n",
    "\n",
    "# create empty list to store scores\n",
    "scores = []\n",
    "\n",
    "# create a for loop to go through each k\n",
    "for k in ks:\n",
    "    # use each k, create Classifier model, and fit training data to it\n",
    "    knn_k = KNeighborsClassifier(k)\n",
    "    knn_k.fit(X_train,y_train)\n",
    "    \n",
    "    # get cross_val_score (5-fold) and append it to list of scores\n",
    "    scores.append(np.mean(cross_val_score(knn_k, X_train, y_train, cv=5)))\n",
    "    \n",
    "    # report chosen k and report misclassification rate on train and test\n",
    "    print(\"Classification accuracies for k = {} were: \\n Train = {}%, \\n Test = {}%, \\n Mean CV Score:\"\n",
    "          .format(k, \n",
    "                  knn_k.score(X_train,y_train)*100, \n",
    "                  knn_k.score(X_test,y_test)*100), \n",
    "                  np.mean(cross_val_score(knn_k, X_train, y_train, cv=5)))"
   ]
  },
  {
   "cell_type": "code",
   "execution_count": 8,
   "metadata": {},
   "outputs": [
    {
     "name": "stdout",
     "output_type": "stream",
     "text": [
      "The best k-NN model is for k = 5 with a cross validation score of 0.8751718869365929.\n"
     ]
    }
   ],
   "source": [
    "# figure out the one with the best\n",
    "best_k_score = 0\n",
    "for i in range(len(scores)):\n",
    "    if scores[i] > best_k_score:\n",
    "        best_k_score = scores[i]\n",
    "        best_k = i\n",
    "print('The best k-NN model is for k = {} with a cross validation score of {}.'.format(best_k, best_k_score))"
   ]
  },
  {
   "cell_type": "markdown",
   "metadata": {},
   "source": [
    "**1.5 Provide the confusion matrix for all 3 models above and report the false positive and false negative rates (all in the test set).  Briefly interpret what you notice.**"
   ]
  },
  {
   "cell_type": "code",
   "execution_count": 9,
   "metadata": {},
   "outputs": [
    {
     "name": "stdout",
     "output_type": "stream",
     "text": [
      "Unregularized Logistic Regression: \n",
      " [[65 12]\n",
      " [21 53]] \n",
      " False Postive Rate: 15.584415584415584% \n",
      " False Negative Rate: 28.37837837837838%\n",
      "Regularized Logistic Regression: \n",
      "[[67 10]\n",
      " [11 63]] \n",
      " False Postive Rate: 12.987012987012985% \n",
      " False Negative Rate: 14.864864864864865%\n",
      "KNN Classifier for k=5: \n",
      "[[67 10]\n",
      " [13 61]] \n",
      " False Postive Rate: 12.987012987012985% \n",
      " False Negative Rate: 17.56756756756757%\n"
     ]
    }
   ],
   "source": [
    "# following lab 7\n",
    "from sklearn.metrics import confusion_matrix\n",
    "\n",
    "# Calculate Confusion Matrix for unreg and FPR and FNR\n",
    "cm_unreg = confusion_matrix(y_test,y_pred_test_ulog)\n",
    "fpr_unreg = cm_unreg[0,1]/(cm_unreg[0,1] + cm_unreg[0,0])*100  # FP/(FP + TN)  or 0,1/(0,1 + 0,0)\n",
    "fnr_unreg = cm_unreg[1,0]/(cm_unreg[1,0] + cm_unreg[1,1])*100  # FN/(FN + TP)  or 1,0/(1,0 + 1,1)\n",
    "print(\"Unregularized Logistic Regression: \\n {} \\n False Postive Rate: {}% \\n False Negative Rate: {}%\"\n",
    "      .format(cm_unreg, fpr_unreg, fnr_unreg))\n",
    "\n",
    "# Calculate Confusion Matrix for reg and FPR and FNR\n",
    "cm_reg = confusion_matrix(y_test,y_test_pred_CV)\n",
    "fpr_reg = cm_reg[0,1]/(cm_reg[0,1] + cm_reg[0,0])*100\n",
    "fnr_reg = cm_reg[1,0]/(cm_reg[1,0] + cm_reg[1,1])*100 \n",
    "print(\"Regularized Logistic Regression: \\n{} \\n False Postive Rate: {}% \\n False Negative Rate: {}%\"\n",
    "      .format(cm_reg, fpr_reg, fnr_reg))\n",
    "\n",
    "# Predict kNN then get confusion matrix and FPR and FNR\n",
    "best_knn = KNeighborsClassifier(best_k)\n",
    "best_knn.fit(X_train, y_train)\n",
    "y_pred_test_bk = best_knn.predict(X_test)\n",
    "\n",
    "cm_k = confusion_matrix(y_test,y_pred_test_bk)\n",
    "fpr_k = cm_k[0,1]/(cm_k[0,1] + cm_k[0,0])*100\n",
    "fnr_k = cm_k[1,0]/(cm_k[1,0] + cm_k[1,1])*100\n",
    "print(\"KNN Classifier for k={}: \\n{} \\n False Postive Rate: {}% \\n False Negative Rate: {}%\"\n",
    "      .format(best_k, cm_k, fpr_k, fnr_k))"
   ]
  },
  {
   "cell_type": "markdown",
   "metadata": {},
   "source": [
    "*Among the three models, it seems that regularized logistic regression is the way to go. Like the K-Nearest Neighbors model, it has a lower false positive rate (so it may tell someone that they have a certain type of cancer that they don't have) but it has the lowest false negative rate (so it may not tell someone that they have a certain type of cancer even though they have it).*\n"
   ]
  },
  {
   "cell_type": "markdown",
   "metadata": {},
   "source": [
    "<div class='exercise'><b> Question 2 [20 pts]: Performing Principal Components Analysis </b></div>"
   ]
  },
  {
   "cell_type": "markdown",
   "metadata": {},
   "source": [
    "**2.1** Create the full PCA decomposition of `X_train` and apply the transformation to both `X_train` and `X_test`.  Report the shape of both of these.  What is the limiting factor for the maximum number of PCA components for this data set? \n",
    "\n",
    "**2.2** PCA is often solely used to help in visualizing high-dimensional problems.  Plot the scatterplot of the second PCA vector of train on the $Y$-axis and the first PCA vector of train on the $X$-axis (be sure to denote the classes via different color/markings).  In 2-3 sentences, explain why using the scatterplot of the top 2 PCA vectors is a useful approach to visualize a high dimensional classification problem.\n",
    "\n",
    "**2.3** Determine and report the variance explained in `X_train` based on the top 2 PCA vectors.  Determine and report how many PCA vectors are needed so that 90\\% of the variability in the predictors is explained, and create a plot to illustrate this result (Hint: look at cumulative explained variability vs. number of PCA components used).\n",
    "\n",
    "**2.4** Plot explained variability in the predictors on the $Y$-axis and the PCA component number on the $X$-axis. Select a reasonable value for the number of components that balances representativeness (of the predictors) with parsimony and justify your choice with 1-3 sentences."
   ]
  },
  {
   "cell_type": "markdown",
   "metadata": {},
   "source": [
    "<hr>\n",
    "\n",
    "### Solutions"
   ]
  },
  {
   "cell_type": "markdown",
   "metadata": {},
   "source": [
    "**2.1 Create the full PCA decomposition of X_train and apply the transformation to both X_train and X_test. Report the shape of both of these. What is the limiting factor for the maximum number of PCA components for this data set?**"
   ]
  },
  {
   "cell_type": "code",
   "execution_count": 10,
   "metadata": {},
   "outputs": [
    {
     "name": "stdout",
     "output_type": "stream",
     "text": [
      "(601, 601)\n",
      "(151, 601)\n"
     ]
    }
   ],
   "source": [
    "# following lab 8\n",
    "from sklearn.preprocessing import StandardScaler\n",
    "\n",
    "# standardize the data first\n",
    "scale_transformer = StandardScaler(copy=True).fit(X_train)\n",
    "X_train_scaled = scale_transformer.transform(X_train)\n",
    "X_test_scaled = scale_transformer.transform(X_test)\n",
    "\n",
    "# use PCA to reduce dimensions\n",
    "# define number of components?\n",
    "# num_components = 2\n",
    "\n",
    "pca_transformer = PCA().fit(X_train_scaled)  # create decomposition of X_train\n",
    "X_train_pca = pca_transformer.transform(X_train_scaled) # apply to X_train\n",
    "X_test_pca =  pca_transformer.transform(X_test_scaled)  # apply to X_test\n",
    "\n",
    "print(X_train_pca.shape)\n",
    "print(X_test_pca.shape)"
   ]
  },
  {
   "cell_type": "markdown",
   "metadata": {},
   "source": [
    "*The number of rows in X_train is the limiting factor for the max number of PCA Components. This also corresponds to the number of observations as each observation in X_train is what we are focused on.*"
   ]
  },
  {
   "cell_type": "markdown",
   "metadata": {},
   "source": [
    "**2.2 PCA is often solely used to help in visualizing high-dimensional problems. Plot the scatterplot of the second PCA vector on the  𝑌 -axis and the first PCA vector on the  𝑋 -axis (be sure to denote the classes via different color/markings). In 2-3 sentences, explain why using the scatterplot of the top 2 PCA vectors is a useful approach to visualize a high dimensional classification problem.**"
   ]
  },
  {
   "cell_type": "code",
   "execution_count": 11,
   "metadata": {},
   "outputs": [
    {
     "data": {
      "image/png": "[encoded data removed]",
      "text/plain": [
       "<Figure size 720x576 with 1 Axes>"
      ]
     },
     "metadata": {
      "needs_background": "light"
     },
     "output_type": "display_data"
    }
   ],
   "source": [
    "# plotting (following lab 8)\n",
    "\n",
    "fig, ax = plt.subplots(figsize=(10,8))\n",
    "# ax.scatter(X_train_pca[:,0], X_train_pca[:,1]);  # plotting w/ out colors\n",
    "\n",
    "colors = ['r','b']\n",
    "label_text = [\"ALL\", \"AML\"]\n",
    "\n",
    "# loop over the 2 cancer types\n",
    "for cur_class in [0,1]:\n",
    "    cur_df = X_train_pca[y_train==cur_class]\n",
    "    ax.scatter(cur_df[:,0], cur_df[:,1], c = colors[cur_class], label=label_text[cur_class])\n",
    "\n",
    "ax.set_xlabel('First PCA Vector')\n",
    "ax.set_ylabel('Second PCA Vector')\n",
    "ax.set_title('Plot of X_train_pca using first 2 Principal Components', fontsize=20);"
   ]
  },
  {
   "cell_type": "markdown",
   "metadata": {},
   "source": [
    "*Understanding the way that the first two components look like helps understand how easy it is to classify the two classes of cancer types. This gives us an idea of how the other components may be splitting the classes and a glimpse into the nature of the entire dataset.*"
   ]
  },
  {
   "cell_type": "markdown",
   "metadata": {},
   "source": [
    "**2.3 Determine and report the variance explained in `X_train` based on the top 2 PCA vectors.  Determine and report how many PCA vectors are needed so that 90\\% of the variability in the predictors is explained, and create a plot to illustrate this result (Hint: look at cumulative explained variability vs. number of PCA components used).**"
   ]
  },
  {
   "cell_type": "code",
   "execution_count": 12,
   "metadata": {},
   "outputs": [
    {
     "name": "stdout",
     "output_type": "stream",
     "text": [
      "Variance explained in X_train based on the top 2 PCA vectors are 448.55775836058166 and 352.6262261826472.\n"
     ]
    }
   ],
   "source": [
    "# determine and report explained variance\n",
    "print(\"Variance explained in X_train based on the top 2 PCA vectors are {} and {}.\"\n",
    "      .format(str(pca_transformer.explained_variance_[0]), str(pca_transformer.explained_variance_[1])))"
   ]
  },
  {
   "cell_type": "code",
   "execution_count": 13,
   "metadata": {},
   "outputs": [
    {
     "data": {
      "text/plain": [
       "231"
      ]
     },
     "execution_count": 13,
     "metadata": {},
     "output_type": "execute_result"
    }
   ],
   "source": [
    "# determine and report how many PCA vectors are needed for 90% of variablity is explained\n",
    "ratio = pca_transformer.explained_variance_ratio_\n",
    "\n",
    "for i in range(len(np.cumsum(ratio))):\n",
    "    if np.cumsum(ratio)[i] > 0.9 and np.cumsum(ratio)[i] < 0.901:\n",
    "        ncomps_90 = i\n",
    "ncomps_90"
   ]
  },
  {
   "cell_type": "code",
   "execution_count": 14,
   "metadata": {},
   "outputs": [
    {
     "data": {
      "image/png": "[encoded data removed]",
      "text/plain": [
       "<Figure size 1440x576 with 1 Axes>"
      ]
     },
     "metadata": {
      "needs_background": "light"
     },
     "output_type": "display_data"
    }
   ],
   "source": [
    "# determine and report # of PCA vectors needed for 90%\n",
    "# following plots from section 6\n",
    "fig, ax = plt.subplots(ncols=1, figsize=(20,8))\n",
    "\n",
    "ax.plot(np.cumsum(ratio), 'o-')\n",
    "ax.axhline(y=0.9, c='r')\n",
    "\n",
    "ax.set_title('Cumulative Sum of Explained Variance Ratio PCA', fontsize=20)\n",
    "ax.set_xlabel(\"PCA Components\")\n",
    "ax.set_ylabel('Cumulative Sum of Explained Variance Ratio');"
   ]
  },
  {
   "cell_type": "markdown",
   "metadata": {},
   "source": [
    "**2.4 Plot explained variability in the predictors on the  𝑌 -axis and the PCA component number on the 𝑋 -axis. Select a reasonable value for the number of components that balances representativeness (of the predictors) with parsimony and justify your choice in 1-3 sentences.**"
   ]
  },
  {
   "cell_type": "code",
   "execution_count": 15,
   "metadata": {
    "scrolled": false
   },
   "outputs": [
    {
     "data": {
      "image/png": "[encoded data removed]",
      "text/plain": [
       "<Figure size 1440x576 with 1 Axes>"
      ]
     },
     "metadata": {
      "needs_background": "light"
     },
     "output_type": "display_data"
    }
   ],
   "source": [
    "#following section 6\n",
    "fig, ax = plt.subplots(ncols=1, figsize=(20,8))\n",
    "\n",
    "ratio = pca_transformer.explained_variance_ratio_\n",
    "ax.bar(range(len(ratio[0:210])), ratio[0:210], color='purple', alpha=0.8)\n",
    "ax.set_title('Explained Variance Ratio PCA', fontsize=20)\n",
    "ax.set_xlabel('PCA Components')\n",
    "ax.set_ylabel('Explained Variance Ratio');"
   ]
  },
  {
   "cell_type": "markdown",
   "metadata": {},
   "source": [
    "*I chose the number 25 because this seems to be around the value that the explained variance starts to shift to very small values.*"
   ]
  },
  {
   "cell_type": "markdown",
   "metadata": {},
   "source": [
    "<div class='exercise'><b> Question 3 [30 pts]: Principal Components Regression (PCR) </b></div>\n",
    "\n",
    "**3.1** Fit three separate Logistic Regression models using principal components as the predictors: (1) with just the first 2 PCA vectors, (2) with the number of component vectors your chose from 2.4 above, and (3) with the number of components that explain at least 90% of the variability in the predictor set. How do the classification accuracy values on both the training and test sets compare with the models fit in Question 1?\n",
    "\n",
    "**3.2** Use cross-validation to determine the best number of principal components. Try out the 3 values from the previous sub-part and optionally include other values as well. For the best performing model according to cross-validation, interpret what the model says about the relationship between `M31523_at` and `Cancer_type`.\n",
    "\n",
    "**3.3** Another way to evaluate models in a classification setting is through an Area-under-the-ROC-Curve (AUC). Briefly explain what the AUC and the ROC are trying to do and how this approach differs (and may be prefered) from evaluating models based on misclassification rate (as you have done thus far in this problem set).\n",
    "\n",
    "**3.4** Evaluate all 6 predictive models (7 if you optionally found a better number of principal components in 3.2) seen in problems 1 and 3 via Area-under-the-ROC-Curve (AUC) on the test set. For the model with the best AUC, plot the ROC. Decide an appropriate strategy for breaking ties, if there are any. Briefly interpret your plot.\n",
    "\n",
    "**3.5** Based on AUC, is there one clear stand-out winner or are a lot of models similar in prediction?  If you were to predict real cancer patients, how would use these models to predict cancer type?"
   ]
  },
  {
   "cell_type": "markdown",
   "metadata": {},
   "source": [
    "<hr>\n",
    "\n",
    "### Solutions"
   ]
  },
  {
   "cell_type": "markdown",
   "metadata": {},
   "source": [
    "**3.1 Fit three separate Logistic Regression models using principal components as the predictors: (1) with just the first 2 PCA vectors, (2) with the number of component vectors your chose from 2.4 above, and (3) with the number of components that explain at least 90% of the variability in the predictor set.  How do the classification accuracy values on both the training and test sets compare with the models fit in Question 1?**"
   ]
  },
  {
   "cell_type": "code",
   "execution_count": 16,
   "metadata": {},
   "outputs": [
    {
     "name": "stdout",
     "output_type": "stream",
     "text": [
      "Training Set Accuracy: 75.87354409317804%\n",
      "Testing Set Accuracy: 76.82119205298014%\n",
      "Training Set Accuracy: 89.35108153078203%\n",
      "Testing Set Accuracy: 85.43046357615894%\n",
      "Training Set Accuracy: 100.0%\n",
      "Testing Set Accuracy: 74.83443708609272%\n"
     ]
    }
   ],
   "source": [
    "# fit model with first 2 pca vectors\n",
    "# X_train_pca[:,0:2]\n",
    "model_pca_2 = LogisticRegression(C=100000, solver = \"lbfgs\", max_iter = 1000).fit(X_train_pca[:,0:2],y_train)\n",
    "\n",
    "# Predict\n",
    "y_pred_train_pca2 = model_pca_2.predict(X_train_pca[:,0:2])\n",
    "y_pred_test_pca2 = model_pca_2.predict(X_test_pca[:,0:2])\n",
    "\n",
    "# Score\n",
    "train_score_pca2 = accuracy_score(y_train, y_pred_train_pca2)*100\n",
    "test_score_pca2 = accuracy_score(y_test, y_pred_test_pca2)*100\n",
    "\n",
    "print(\"Training Set Accuracy:\",str(train_score_pca2)+'%')\n",
    "print(\"Testing Set Accuracy:\",str(test_score_pca2)+'%')\n",
    "\n",
    "# fit model with 25 vectors\n",
    "# X_train_pca[:,0:25]\n",
    "model_pca_25 = LogisticRegression(C=100000, solver = \"lbfgs\", max_iter = 10000).fit(X_train_pca[:,0:25],y_train)\n",
    "\n",
    "# Predict\n",
    "y_pred_train_pca25 = model_pca_25.predict(X_train_pca[:,0:25])\n",
    "y_pred_test_pca25 = model_pca_25.predict(X_test_pca[:,0:25])\n",
    "\n",
    "# Score\n",
    "train_score_pca25 = accuracy_score(y_train, y_pred_train_pca25)*100\n",
    "test_score_pca25 = accuracy_score(y_test, y_pred_test_pca25)*100\n",
    "\n",
    "print(\"Training Set Accuracy:\",str(train_score_pca25)+'%')\n",
    "print(\"Testing Set Accuracy:\",str(test_score_pca25)+'%')\n",
    "\n",
    "# fit model with ncomps_90 vecors\n",
    "# X_train_pca[:,0:ncomps_90]\n",
    "model_pca_90 = LogisticRegression(C=100000, solver = \"lbfgs\", max_iter = 10000).fit(X_train_pca[:,0:ncomps_90],y_train)\n",
    "\n",
    "# Predict\n",
    "y_pred_train_pca90 = model_pca_90.predict(X_train_pca[:,0:ncomps_90])\n",
    "y_pred_test_pca90 = model_pca_90.predict(X_test_pca[:,0:ncomps_90])\n",
    "\n",
    "# Score\n",
    "train_score_pca90 = accuracy_score(y_train, y_pred_train_pca90)*100\n",
    "test_score_pca90 = accuracy_score(y_test, y_pred_test_pca90)*100\n",
    "\n",
    "print(\"Training Set Accuracy:\",str(train_score_pca90)+'%')\n",
    "print(\"Testing Set Accuracy:\",str(test_score_pca90)+'%')"
   ]
  },
  {
   "cell_type": "markdown",
   "metadata": {},
   "source": [
    "*All these accuracies are lower than they were in question 1. This seems to imply that PCA yields worse prediction results. However, because it is such a large dataset, these more conservative values seem more plausible.*\n"
   ]
  },
  {
   "cell_type": "markdown",
   "metadata": {},
   "source": [
    "**3.2 Use cross-validation to determine the best number of principal components. Try out the 3 values from the previous sub-part and optionally include other values as well. For the best performing model according to cross-validation, interpret what the model says about the relationship between `M31523_at` and `Cancer_type`**."
   ]
  },
  {
   "cell_type": "code",
   "execution_count": 17,
   "metadata": {},
   "outputs": [
    {
     "name": "stdout",
     "output_type": "stream",
     "text": [
      "The best number of components is 231 with a cross validation score of 0.8867699145774012.\n",
      "The dot product between the first two principal components is  0.0\n"
     ]
    }
   ],
   "source": [
    "# use cross val score on first 2 components\n",
    "# np.mean(cross_val_score(model_pca_2, X_train_pca, y_train, cv=5))\n",
    "# use cross val score on 90% components\n",
    "# np.mean(cross_val_score(model_pca_90, X_train_pca, y_train, cv=5))\n",
    "# use cross val score on 210 components\n",
    "# np.mean(cross_val_score(model_pca_210, X_train_pca, y_train, cv=5))\n",
    "\n",
    "scores_2 = [np.mean(cross_val_score(model_pca_2, X_train_pca[:,0:2], y_train, cv=5)),\n",
    "          np.mean(cross_val_score(model_pca_90, X_train_pca[:,0:ncomps_90], y_train, cv=5)),\n",
    "          np.mean(cross_val_score(model_pca_25, X_train_pca[:,0:25], y_train, cv=5))]\n",
    "\n",
    "components = [2, 25, ncomps_90]\n",
    "\n",
    "# find which one is the best\n",
    "best_score = 0\n",
    "for i in range(len(scores_2)):\n",
    "    if scores_2[i] > best_score:\n",
    "        best_score = scores_2[i]\n",
    "        index = components[i]\n",
    "\n",
    "print(\"The best number of components is {} with a cross validation score of {}.\".format(index, best_score))\n",
    "\n",
    "# use section 6 to check relationship between cancer type and M31523_at (dot product)\n",
    "vec1 = pca_transformer.components_[0]\n",
    "vec2 = pca_transformer.components_[1]\n",
    "print('The dot product between the first two principal components is ',np.round(np.dot(vec1, vec2),5))"
   ]
  },
  {
   "cell_type": "markdown",
   "metadata": {},
   "source": [
    "*Given that the dot product is 0 between the first two components, it seems like the model is based on a PCA training set that was defined correctly and has a pretty conservative cross validation score.*"
   ]
  },
  {
   "cell_type": "markdown",
   "metadata": {},
   "source": [
    "**3.3 Another way to evaluate models in a classification setting is through an Area-under-the-ROC-Curve (AUC). Briefly explain what the AUC and the ROC are trying to do and how this approach differs (and may be prefered) from evaluating models based on misclassification rate (as you have done thus far in this problem set).**"
   ]
  },
  {
   "cell_type": "markdown",
   "metadata": {},
   "source": [
    "*ROC is trying to evaluate how useful a model is by checking its false positive rate against its tru positive rate. The AUC measures how well the model can differentiate between the two classes. Because these factors are more concrete and useful for, say, cancer types, it is more useful to use than missclassification rate.*"
   ]
  },
  {
   "cell_type": "markdown",
   "metadata": {},
   "source": [
    "**3.4 Evaluate all 6 predictive models (7 if you optionally found a better number of principal components in 3.2) seen in problems 1 and 3 via Area-under-the-ROC-Curve (AUC) on the test set. For the best model with the best AUC, plot the ROC. Decide an appropriate strategy for breaking ties, if there are any. Briefly interpret your plot.**"
   ]
  },
  {
   "cell_type": "code",
   "execution_count": 18,
   "metadata": {
    "scrolled": true
   },
   "outputs": [
    {
     "name": "stdout",
     "output_type": "stream",
     "text": [
      "AUC for unregularized logistic model before PCA: \n",
      " 0.847051597051597\n",
      "AUC for regularized logistic model before PCA: \n",
      " 0.8634608634608635\n",
      "AUC for k-NN model before PCA: \n",
      " 0.8680238680238681\n",
      "AUC for logistic model with 2 principal components: \n",
      " 0.8218673218673219\n",
      "AUC for logistic model with 25 principal components: \n",
      " 0.8480168480168482\n",
      "AUC for logistic model with 231 principal components: \n",
      " 0.7875570375570374\n"
     ]
    }
   ],
   "source": [
    "# follow lab 7\n",
    "from sklearn.metrics import roc_curve, auc\n",
    "\n",
    "# unregularized logisitic - pre-PCA\n",
    "fpr1, tpr1, thresholds1=roc_curve(y_test, unreg_log.predict_proba(X_test)[:,1])\n",
    "print(\"AUC for unregularized logistic model before PCA: \\n\",\n",
    "      auc(fpr1, tpr1))\n",
    "\n",
    "# regularized logistic - pre-PCA\n",
    "fpr2, tpr2, thresholds2=roc_curve(y_test, reg_log_cv.predict_proba(X_test)[:,1])\n",
    "print(\"AUC for regularized logistic model before PCA: \\n\",\n",
    "      auc(fpr2, tpr2))\n",
    "\n",
    "# k-NN - pre-PCA\n",
    "fpr3, tpr3, thresholds3=roc_curve(y_test, best_knn.predict_proba(X_test)[:,1])\n",
    "print(\"AUC for k-NN model before PCA: \\n\",\n",
    "      auc(fpr3, tpr3))\n",
    "\n",
    "# model_pca_2\n",
    "fpr4, tpr4, thresholds4=roc_curve(y_test, model_pca_2.predict_proba(X_test_pca[:,0:2])[:,1])\n",
    "print(\"AUC for logistic model with 2 principal components: \\n\",\n",
    "      auc(fpr4, tpr4))\n",
    "\n",
    "# model_pca_25\n",
    "fpr5, tpr5, thresholds5=roc_curve(y_test, model_pca_25.predict_proba(X_test_pca[:,0:25])[:,1])\n",
    "print(\"AUC for logistic model with 25 principal components: \\n\",\n",
    "      auc(fpr5, tpr5))\n",
    "\n",
    "# model_pca_90\n",
    "fpr6, tpr6, thresholds6=roc_curve(y_test, model_pca_90.predict_proba(X_test_pca[:,0:ncomps_90])[:,1])\n",
    "print(\"AUC for logistic model with 231 principal components: \\n\",\n",
    "      auc(fpr6, tpr6))"
   ]
  },
  {
   "cell_type": "code",
   "execution_count": 19,
   "metadata": {},
   "outputs": [
    {
     "data": {
      "image/png": "[encoded data removed]",
      "text/plain": [
       "<Figure size 720x576 with 1 Axes>"
      ]
     },
     "metadata": {
      "needs_background": "light"
     },
     "output_type": "display_data"
    }
   ],
   "source": [
    "# best model was the knn model\n",
    "# plotting\n",
    "roc_auc = auc(fpr3, tpr3)\n",
    "\n",
    "fig, ax = plt.subplots(1,1, figsize = (10,8))\n",
    "ax.set_title('ROC Curve for best k-NN Model')\n",
    "ax.plot(fpr3, tpr3, 'b', label = 'AUC = %0.2f' % roc_auc)\n",
    "ax.legend(loc = 'lower right')\n",
    "ax.plot([0, 1], [0, 1],'r--')\n",
    "ax.set_xlim([0, 1])\n",
    "ax.set_ylim([0, 1])\n",
    "ax.set_ylabel('True Positive Rate')\n",
    "ax.set_xlabel('False Positive Rate');\n",
    "# plt.show()"
   ]
  },
  {
   "cell_type": "markdown",
   "metadata": {},
   "source": [
    "*This ROC curve suggests that high true positice rates can be associated with low false positive rates which is indicates that the model is good at distinguishing the two classes without error.*"
   ]
  },
  {
   "cell_type": "markdown",
   "metadata": {},
   "source": [
    "**3.5 Based on AUC, is there one clear stand-out winner or are a lot of models similar in prediction? If you were to predict real cancer patients, how would use these models to predict cancer type?**"
   ]
  },
  {
   "cell_type": "markdown",
   "metadata": {},
   "source": [
    "*Because the values are so close to each other, there is no clear winner. Depending on the serverity of the cancer and the type of treatment that could ensue, I would make my decision between the models taking those into account.*\n"
   ]
  },
  {
   "cell_type": "markdown",
   "metadata": {},
   "source": [
    "<div class='exercise'><b> Question 4: COMPAS [30 points] </b></div>\n",
    "\n",
    "This problem is unrelated to the first 3 problems, and steps through analyzing the COMPAS data set `compas.csv`.  The variables are roughly explained in the `compas_datadict.csv` file, and ProPublica's analysis is publically available here: https://github.com/propublica/compas-analysis.\n",
    "\n",
    "**4.1** Split the data into 80% training and 20% test stratified by race. Before splitting you may want to process the categorical predictors first so you don't have to do it separately in tain and test later.\n",
    "\n",
    "**4.2** Do a little EDA: explore what variables are related to race. Report 3 variables that appear to have significant differences between Caucasians and African Americans, and provide visuals and numerical summaries to support these chosen variables.\n",
    "\n",
    "**4.3** With respect to these 3 chosen variables, how could bias in the data or data collection be impacting or causing these differences?  Explain in 3-5 sentences.\n",
    "\n",
    "**4.4**. Build 2 seperate models to predict recidivism (`two_year_recid`) from these data (2 different 'classes' of models: $k$-NN, linear, logistic, etc.) and be sure to include race as a predictor. \n",
    "\n",
    "**4.5**. Refit the models in 4.4 without race as a predictor.  Report the overall misclassifcation rates, and compare the differences in false positive and false negative rates between Caucasians and African Americans in these models on the test set.  How do these compare to the models when race is included as a predictor?\n",
    "\n",
    "**4.6**. Given your exploration and modeling of the data, should a predictive tool be trusted to be unbiased even if it doesn’t explicitly use a variable such as race to predict future crime?  Why or why not?  Why is the bias still occurring or not occurring?  Explain in 3-6 sentences total."
   ]
  },
  {
   "cell_type": "markdown",
   "metadata": {},
   "source": [
    "<hr>\n",
    "\n",
    "### Solutions"
   ]
  },
  {
   "cell_type": "markdown",
   "metadata": {},
   "source": [
    "**4.1 Split the data into 80% training and 20% test stratified by race.  Before splitting you may want to process the categorical predictors first so you don't have to do it separately in train and test later.**"
   ]
  },
  {
   "cell_type": "code",
   "execution_count": 20,
   "metadata": {},
   "outputs": [],
   "source": [
    "compas_df = pd.read_csv('data/compas.csv')\n",
    "\n",
    "# process categorical predictors\n",
    "# get dummies for c_charge_degree\n",
    "compas_dummies_df =  pd.get_dummies(compas_df, \n",
    "                                    columns = ['c_charge_degree'],\n",
    "                                    drop_first=False)\n",
    "# recode the sex column\n",
    "compas_dummies_df['sex'] = 1*(compas_df['sex']=='Male')\n",
    "# dropping c_charge_desc because it had too many values that seemed unecessary\n",
    "compas_dummies_df = compas_dummies_df.drop('c_charge_desc', axis = 1)\n",
    "# splitting data with race as target\n",
    "np.random.seed(10)\n",
    "X_train_comp, X_test_comp, y_train_comp, y_test_comp =train_test_split(\n",
    "                                                    compas_dummies_df.loc[:, compas_dummies_df.columns != 'race'], \n",
    "                                                    compas_df.race, test_size=0.2, \n",
    "                                                    random_state = 109, \n",
    "                                                    stratify = compas_df.race)\n",
    "\n",
    "# X_train_comp.shape\n",
    "# X_test_comp.shape\n",
    "# y_train_comp.shape\n",
    "# y_test_comp.shape"
   ]
  },
  {
   "cell_type": "code",
   "execution_count": 21,
   "metadata": {},
   "outputs": [
    {
     "data": {
      "text/html": [
       "<div>\n",
       "<style scoped>\n",
       "    .dataframe tbody tr th:only-of-type {\n",
       "        vertical-align: middle;\n",
       "    }\n",
       "\n",
       "    .dataframe tbody tr th {\n",
       "        vertical-align: top;\n",
       "    }\n",
       "\n",
       "    .dataframe thead th {\n",
       "        text-align: right;\n",
       "    }\n",
       "</style>\n",
       "<table border=\"1\" class=\"dataframe\">\n",
       "  <thead>\n",
       "    <tr style=\"text-align: right;\">\n",
       "      <th></th>\n",
       "      <th>age</th>\n",
       "      <th>score_text</th>\n",
       "      <th>sex</th>\n",
       "      <th>priors_count</th>\n",
       "      <th>juv_fel_count</th>\n",
       "      <th>juv_misd_count</th>\n",
       "      <th>juv_other_count</th>\n",
       "      <th>decile_score</th>\n",
       "      <th>two_year_recid</th>\n",
       "      <th>length_of_stay</th>\n",
       "      <th>priors_1</th>\n",
       "      <th>priors_234</th>\n",
       "      <th>priors_5plus</th>\n",
       "      <th>juv_fel_1plus</th>\n",
       "      <th>juv_misd_1plus</th>\n",
       "      <th>juv_other_1plus</th>\n",
       "      <th>charge_any_drug</th>\n",
       "      <th>charge_any_violence_aggression</th>\n",
       "      <th>charge_any_theft</th>\n",
       "      <th>length_of_stay_thresh</th>\n",
       "      <th>c_charge_degree_F</th>\n",
       "      <th>c_charge_degree_M</th>\n",
       "    </tr>\n",
       "  </thead>\n",
       "  <tbody>\n",
       "    <tr>\n",
       "      <th>37</th>\n",
       "      <td>29</td>\n",
       "      <td>Low</td>\n",
       "      <td>1</td>\n",
       "      <td>2</td>\n",
       "      <td>0</td>\n",
       "      <td>0</td>\n",
       "      <td>0</td>\n",
       "      <td>2</td>\n",
       "      <td>1</td>\n",
       "      <td>1</td>\n",
       "      <td>0</td>\n",
       "      <td>1</td>\n",
       "      <td>0</td>\n",
       "      <td>0</td>\n",
       "      <td>0</td>\n",
       "      <td>0</td>\n",
       "      <td>0</td>\n",
       "      <td>1</td>\n",
       "      <td>0</td>\n",
       "      <td>1</td>\n",
       "      <td>0</td>\n",
       "      <td>1</td>\n",
       "    </tr>\n",
       "    <tr>\n",
       "      <th>1721</th>\n",
       "      <td>30</td>\n",
       "      <td>Low</td>\n",
       "      <td>1</td>\n",
       "      <td>3</td>\n",
       "      <td>0</td>\n",
       "      <td>0</td>\n",
       "      <td>1</td>\n",
       "      <td>2</td>\n",
       "      <td>0</td>\n",
       "      <td>1</td>\n",
       "      <td>0</td>\n",
       "      <td>1</td>\n",
       "      <td>0</td>\n",
       "      <td>0</td>\n",
       "      <td>0</td>\n",
       "      <td>1</td>\n",
       "      <td>0</td>\n",
       "      <td>0</td>\n",
       "      <td>0</td>\n",
       "      <td>1</td>\n",
       "      <td>1</td>\n",
       "      <td>0</td>\n",
       "    </tr>\n",
       "    <tr>\n",
       "      <th>659</th>\n",
       "      <td>47</td>\n",
       "      <td>Low</td>\n",
       "      <td>1</td>\n",
       "      <td>0</td>\n",
       "      <td>0</td>\n",
       "      <td>0</td>\n",
       "      <td>0</td>\n",
       "      <td>1</td>\n",
       "      <td>0</td>\n",
       "      <td>0</td>\n",
       "      <td>0</td>\n",
       "      <td>0</td>\n",
       "      <td>0</td>\n",
       "      <td>0</td>\n",
       "      <td>0</td>\n",
       "      <td>0</td>\n",
       "      <td>0</td>\n",
       "      <td>0</td>\n",
       "      <td>0</td>\n",
       "      <td>0</td>\n",
       "      <td>0</td>\n",
       "      <td>1</td>\n",
       "    </tr>\n",
       "    <tr>\n",
       "      <th>4682</th>\n",
       "      <td>54</td>\n",
       "      <td>Low</td>\n",
       "      <td>1</td>\n",
       "      <td>4</td>\n",
       "      <td>0</td>\n",
       "      <td>0</td>\n",
       "      <td>0</td>\n",
       "      <td>1</td>\n",
       "      <td>0</td>\n",
       "      <td>2</td>\n",
       "      <td>0</td>\n",
       "      <td>1</td>\n",
       "      <td>0</td>\n",
       "      <td>0</td>\n",
       "      <td>0</td>\n",
       "      <td>0</td>\n",
       "      <td>0</td>\n",
       "      <td>0</td>\n",
       "      <td>0</td>\n",
       "      <td>2</td>\n",
       "      <td>1</td>\n",
       "      <td>0</td>\n",
       "    </tr>\n",
       "    <tr>\n",
       "      <th>3845</th>\n",
       "      <td>22</td>\n",
       "      <td>Low</td>\n",
       "      <td>1</td>\n",
       "      <td>0</td>\n",
       "      <td>0</td>\n",
       "      <td>0</td>\n",
       "      <td>0</td>\n",
       "      <td>4</td>\n",
       "      <td>1</td>\n",
       "      <td>6</td>\n",
       "      <td>0</td>\n",
       "      <td>0</td>\n",
       "      <td>0</td>\n",
       "      <td>0</td>\n",
       "      <td>0</td>\n",
       "      <td>0</td>\n",
       "      <td>0</td>\n",
       "      <td>0</td>\n",
       "      <td>0</td>\n",
       "      <td>6</td>\n",
       "      <td>1</td>\n",
       "      <td>0</td>\n",
       "    </tr>\n",
       "  </tbody>\n",
       "</table>\n",
       "</div>"
      ],
      "text/plain": [
       "      age score_text  sex  priors_count  juv_fel_count  juv_misd_count  \\\n",
       "37     29        Low    1             2              0               0   \n",
       "1721   30        Low    1             3              0               0   \n",
       "659    47        Low    1             0              0               0   \n",
       "4682   54        Low    1             4              0               0   \n",
       "3845   22        Low    1             0              0               0   \n",
       "\n",
       "      juv_other_count  decile_score  two_year_recid  length_of_stay  priors_1  \\\n",
       "37                  0             2               1               1         0   \n",
       "1721                1             2               0               1         0   \n",
       "659                 0             1               0               0         0   \n",
       "4682                0             1               0               2         0   \n",
       "3845                0             4               1               6         0   \n",
       "\n",
       "      priors_234  priors_5plus  juv_fel_1plus  juv_misd_1plus  \\\n",
       "37             1             0              0               0   \n",
       "1721           1             0              0               0   \n",
       "659            0             0              0               0   \n",
       "4682           1             0              0               0   \n",
       "3845           0             0              0               0   \n",
       "\n",
       "      juv_other_1plus  charge_any_drug  charge_any_violence_aggression  \\\n",
       "37                  0                0                               1   \n",
       "1721                1                0                               0   \n",
       "659                 0                0                               0   \n",
       "4682                0                0                               0   \n",
       "3845                0                0                               0   \n",
       "\n",
       "      charge_any_theft  length_of_stay_thresh  c_charge_degree_F  \\\n",
       "37                   0                      1                  0   \n",
       "1721                 0                      1                  1   \n",
       "659                  0                      0                  0   \n",
       "4682                 0                      2                  1   \n",
       "3845                 0                      6                  1   \n",
       "\n",
       "      c_charge_degree_M  \n",
       "37                    1  \n",
       "1721                  0  \n",
       "659                   1  \n",
       "4682                  0  \n",
       "3845                  0  "
      ]
     },
     "execution_count": 21,
     "metadata": {},
     "output_type": "execute_result"
    }
   ],
   "source": [
    "X_train_comp.head()"
   ]
  },
  {
   "cell_type": "markdown",
   "metadata": {},
   "source": [
    "**4.2 Do a little EDA: explore what variables are related to race. Report 3 variables that appear to have significant differences between Caucasians and African Americans, and provide visuals and numerical summaries to support these chosen variables.**"
   ]
  },
  {
   "cell_type": "code",
   "execution_count": 22,
   "metadata": {
    "scrolled": true
   },
   "outputs": [
    {
     "name": "stdout",
     "output_type": "stream",
     "text": [
      "The best three predictors are juv_other_count, sex, and age.\n"
     ]
    }
   ],
   "source": [
    "# Perform t-tests to identify predictors\n",
    "\n",
    "from scipy import stats  # for getting the p values\n",
    "\n",
    "# reindex y_train first\n",
    "# y_train_reindexed = y_train_comp.reset_index()\n",
    "\n",
    "# split X train into the two classes - African-American and Caucasian\n",
    "X_train_0 = X_train_comp.loc[y_train_comp[y_train_comp == 'African-American'].index.tolist()]\n",
    "X_train_1 = X_train_comp.loc[y_train_comp[y_train_comp == 'Caucasian'].index.tolist()]\n",
    "\n",
    "# construct t statistic by:\n",
    "# substracting the means of the two from each other - this is the numerator of t\n",
    "num = abs(X_train_0.mean()-X_train_1.mean())\n",
    "\n",
    "# calculating the respective sample variances and divide by their respective Ns\n",
    "var_0 = X_train_0.var()/len(X_train_0)\n",
    "var_1 = X_train_1.var()/len(X_train_1)\n",
    "\n",
    "# put it all together\n",
    "t_stats = num/((var_0 + var_1)**(1/2))\n",
    "\n",
    "# calculate the p values by:\n",
    "# idenitifying degrees of freedom\n",
    "dfs = len(X_train_0)+len(X_train_1) - 2\n",
    "\n",
    "# using p_val = 1 - stats.t.cdf(t,df=df)\n",
    "p_values = 1 - stats.t.cdf(t_stats,df=dfs)\n",
    "\n",
    "# sort the pvalues and get the indices of the the smallest 3\n",
    "indices = list(np.argsort(-t_stats.values)[0:3])\n",
    "\n",
    "# store the names of the first 3 in its own list\n",
    "best_3_predictors = X_train_comp.columns[indices]\n",
    "\n",
    "\n",
    "print(\"The best three predictors are {}, {}, and {}.\".format(best_3_predictors.tolist()[0],\n",
    "                                                             best_3_predictors.tolist()[1],\n",
    "                                                             best_3_predictors.tolist()[2]))"
   ]
  },
  {
   "cell_type": "markdown",
   "metadata": {},
   "source": [
    "**4.3 With respect to these 3 chosen variables, how could bias in the data or data collection be impacting or causing these differences? Explain in 3-5 sentences.**"
   ]
  },
  {
   "cell_type": "markdown",
   "metadata": {},
   "source": [
    "*The variables of juvenile history, sex, and age can easily play a role in causing statistically significant differences between African Americans and Caucasians. There may be clear systematic issues with juvenile disciplanary actions that may more negatively affect African American children. Sexism can very easily play a role as young, black females are almost always very negatively stereotyped as are young, black males as compared to their white counterparts. Age may also play a role and can easily be related to sex in this case as many studies show that black children are seen as more mature than their white counterparts and can easily be blamed for things disproportionately and tried as adults more often.*"
   ]
  },
  {
   "cell_type": "markdown",
   "metadata": {},
   "source": [
    "**4.4. Build 2 seperate models to predict recidivism (`two_year_recid`) from these data (2 different 'classes' of models:  $k$-NN, linear, logistic, etc.) and be sure to include race as a predictor.**"
   ]
  },
  {
   "cell_type": "code",
   "execution_count": 23,
   "metadata": {},
   "outputs": [],
   "source": [
    "# create new X_train include race, drop two_year_recid; create new y_train with two_year_recid as target\n",
    "X_train_new = X_train_comp.drop('two_year_recid', axis=1)\n",
    "X_train_new = X_train_new.drop('score_text', axis=1)\n",
    "X_train_new['race'] = 1*(compas_dummies_df['race'] == 'African-American')  #include race as a predictor; 1 if AA, 0 if Cauc\n",
    "y_train_new = X_train_comp['two_year_recid']\n",
    "\n",
    "# create new X_test\n",
    "X_test_new = X_test_comp.drop('two_year_recid', axis=1)\n",
    "X_test_new = X_test_new.drop('score_text', axis=1)\n",
    "X_test_new['race'] = 1*(compas_dummies_df['race'] == 'African-American')  #include race as a predictor; 1 if AA, 0 if Cauc\n",
    "y_test_new = X_test_comp['two_year_recid']\n",
    "\n",
    "\n",
    "# logistic model\n",
    "model_44_log = LogisticRegression(C=100000, solver = \"lbfgs\", max_iter = 1000).fit(X_train_new,y_train_new)\n",
    "y_test_new_pred_log = model_44_log.predict(X_test_new)\n",
    "\n",
    "# k-NN model\n",
    "model_44_k = KNeighborsClassifier(10)\n",
    "model_44_k.fit(X_train_new,y_train_new)\n",
    "y_test_new_pred_k = model_44_k.predict(X_test_new)"
   ]
  },
  {
   "cell_type": "markdown",
   "metadata": {},
   "source": [
    "**4.5. Refit the models in 4.4 without race as a predictor. Report the overall misclassifcation rates, and compare the differences in false positive and false negative rates between Caucasians and African Americans in these models on the test set. How do these compare to the models when race is included as a predictor?**"
   ]
  },
  {
   "cell_type": "code",
   "execution_count": 24,
   "metadata": {},
   "outputs": [
    {
     "name": "stdout",
     "output_type": "stream",
     "text": [
      "Logistic Regression with race: \n",
      " [[516 161]\n",
      " [228 330]] \n",
      " False Postive Rate: 23.78138847858198% \n",
      " False Negative Rate: 40.86021505376344%\n",
      "KNN Classifier with race: \n",
      "[[542 135]\n",
      " [280 278]] \n",
      " False Postive Rate: 19.940915805022154% \n",
      " False Negative Rate: 50.179211469534046%\n",
      "Logistic Regression without race: \n",
      "[[514 163]\n",
      " [228 330]] \n",
      " False Postive Rate: 24.076809453471196% \n",
      " False Negative Rate: 40.86021505376344%\n",
      "KNN Classifier without race: \n",
      "[[540 137]\n",
      " [282 276]] \n",
      " False Postive Rate: 20.236336779911372% \n",
      " False Negative Rate: 50.53763440860215%\n"
     ]
    }
   ],
   "source": [
    "# refit the models, drop race\n",
    "# create new X_train drop race\n",
    "X_train_new2 = X_train_new.drop('race', axis=1)\n",
    "# create new X_train drop race\n",
    "X_test_new2 = X_test_new.drop('race', axis=1)\n",
    "\n",
    "# logistic model\n",
    "model_44_log2 = LogisticRegression(C=100000, solver = \"lbfgs\", max_iter = 1000).fit(X_train_new2,y_train_new)\n",
    "y_test_new_pred_log2 = model_44_log2.predict(X_test_new2)\n",
    "\n",
    "# k-NN model\n",
    "model_44_k2 = KNeighborsClassifier(10)\n",
    "model_44_k2.fit(X_train_new2,y_train_new)\n",
    "y_test_new_pred_k2 = model_44_k2.predict(X_test_new2)\n",
    "\n",
    "# confusion matrices :))\n",
    "# Calculate Confusion Matrix for log1 and FPR and FNR\n",
    "cm_log = confusion_matrix(y_test_new,y_test_new_pred_log)\n",
    "fpr_log = cm_log[0,1]/(cm_log[0,1] + cm_log[0,0])*100  # FP/(FP + TN)  or 0,1/(0,1 + 0,0)\n",
    "fnr_log = cm_log[1,0]/(cm_log[1,0] + cm_log[1,1])*100  # FN/(FN + TP)  or 1,0/(1,0 + 1,1)\n",
    "print(\"Logistic Regression with race: \\n {} \\n False Postive Rate: {}% \\n False Negative Rate: {}%\"\n",
    "      .format(cm_log, fpr_log, fnr_log))\n",
    "\n",
    "# Calculate Confusion Matrix kNN1 then get confusion matrix and FPR and FNR\n",
    "cm_k1 = confusion_matrix(y_test_new,y_test_new_pred_k)\n",
    "fpr_k1 = cm_k1[0,1]/(cm_k1[0,1] + cm_k1[0,0])*100\n",
    "fnr_k1 = cm_k1[1,0]/(cm_k1[1,0] + cm_k1[1,1])*100\n",
    "print(\"KNN Classifier with race: \\n{} \\n False Postive Rate: {}% \\n False Negative Rate: {}%\"\n",
    "      .format(cm_k1, fpr_k1, fnr_k1))\n",
    "\n",
    "# Calculate Confusion Matrix for log2 and FPR and FNR\n",
    "cm_log2 = confusion_matrix(y_test_new,y_test_new_pred_log2)\n",
    "fpr_log2 = cm_log2[0,1]/(cm_log2[0,1] + cm_log2[0,0])*100\n",
    "fnr_log2 = cm_log2[1,0]/(cm_log2[1,0] + cm_log2[1,1])*100 \n",
    "print(\"Logistic Regression without race: \\n{} \\n False Postive Rate: {}% \\n False Negative Rate: {}%\"\n",
    "      .format(cm_log2, fpr_log2, fnr_log2))\n",
    "\n",
    "# Caluculate Confusion Matrix for knn2\n",
    "cm_k2 = confusion_matrix(y_test_new,y_test_new_pred_k2)\n",
    "fpr_k2 = cm_k2[0,1]/(cm_k2[0,1] + cm_k2[0,0])*100\n",
    "fnr_k2 = cm_k2[1,0]/(cm_k2[1,0] + cm_k2[1,1])*100\n",
    "print(\"KNN Classifier without race: \\n{} \\n False Postive Rate: {}% \\n False Negative Rate: {}%\"\n",
    "      .format(cm_k2, fpr_k2, fnr_k2))"
   ]
  },
  {
   "cell_type": "markdown",
   "metadata": {},
   "source": [
    "*It seems that, withouth race, the models tend to perform more poorly. This would suggest that race may be an important factor to consider when trying to predict recidivism which would imply that some racist policy or ideation is being reflected here.*"
   ]
  },
  {
   "cell_type": "markdown",
   "metadata": {},
   "source": [
    "**4.6. Given your exploration and modeling of the data, should a predictive tool be trusted to be unbiased even if it doesn’t explicitly use a variable such as race to predict future crime?  Why or why not?  Why is the bias still occurring or not occurring?  Explain in 3-6 sentences total.**"
   ]
  },
  {
   "cell_type": "markdown",
   "metadata": {},
   "source": [
    "*Given my exploration, I do not think that a predictive tool should be trusted to be unbiased. No matter how automated an algorithm is, it cannot erase systematic issues that are a result of human policy making. Bias can still occur in other parts of the justice system which an algorithm will undoub*\n"
   ]
  },
  {
   "cell_type": "markdown",
   "metadata": {},
   "source": [
    "---"
   ]
  }
 ],
 "metadata": {
  "kernelspec": {
   "display_name": "Python 3",
   "language": "python",
   "name": "python3"
  },
  "language_info": {
   "codemirror_mode": {
    "name": "ipython",
    "version": 3
   },
   "file_extension": ".py",
   "mimetype": "text/x-python",
   "name": "python",
   "nbconvert_exporter": "python",
   "pygments_lexer": "ipython3",
   "version": "3.7.4"
  }
 },
 "nbformat": 4,
 "nbformat_minor": 2
}
